{
  "nbformat": 4,
  "nbformat_minor": 0,
  "metadata": {
    "colab": {
      "name": "Chapter 1.ipynb",
      "provenance": [],
      "authorship_tag": "ABX9TyNfRiGDMwaUpPkO0ZU03rMP",
      "include_colab_link": true
    },
    "kernelspec": {
      "name": "python3",
      "display_name": "Python 3"
    }
  },
  "cells": [
    {
      "cell_type": "markdown",
      "metadata": {
        "id": "view-in-github",
        "colab_type": "text"
      },
      "source": [
        "<a href=\"https://colab.research.google.com/github/sonaalll/HandsOn_ML_by_OReilly/blob/main/Chapter_1_HandsOnML.ipynb\" target=\"_parent\"><img src=\"https://colab.research.google.com/assets/colab-badge.svg\" alt=\"Open In Colab\"/></a>"
      ]
    },
    {
      "cell_type": "markdown",
      "metadata": {
        "id": "u-Mz_QHnH_GV"
      },
      "source": [
        "# Chapter 1: The Machine Learning Landscape"
      ]
    },
    {
      "cell_type": "markdown",
      "metadata": {
        "id": "LOqHqLTFIJPh"
      },
      "source": [
        "## **Exercises**:"
      ]
    },
    {
      "cell_type": "markdown",
      "metadata": {
        "id": "iVhSP1er1LqA"
      },
      "source": [
        "###  Question 1"
      ]
    },
    {
      "cell_type": "markdown",
      "metadata": {
        "id": "B3c4pv_k1Vum"
      },
      "source": [
        "**How would you define Machine Learning?**\n",
        "\n",
        "Machine learning is the ability of computers and algorithms to perform tasks without being explicitly prrogramed to do the same. \n",
        "\n",
        "In more sophisticated terms, A computer program that learns from experience E with respect to some class of tasks T and performance measure P, if its performance at tasks in T, as measured by P, improves with experience E."
      ]
    },
    {
      "cell_type": "markdown",
      "metadata": {
        "id": "dHuJECNu2Z7j"
      },
      "source": [
        "### Question 2"
      ]
    },
    {
      "cell_type": "markdown",
      "metadata": {
        "id": "WBv0rDjI2gEg"
      },
      "source": [
        "**Can you name four types of problems where it shines?**\n",
        "\n",
        "ML can be used to replace tonnes of hand tuned rules (eg: spam classifiers). When problems are too complex for traditional approaches (eg: speech recognition), ML algorithms are the solution. They help humans learn (eg: Data Mining) and are extremely helpful in fluctuating environment where ML can be used to adapt to new data."
      ]
    },
    {
      "cell_type": "markdown",
      "metadata": {
        "id": "6GYmBBuJ3lIj"
      },
      "source": [
        "### Question 3"
      ]
    },
    {
      "cell_type": "markdown",
      "metadata": {
        "id": "YVxN3vrX2f-B"
      },
      "source": [
        "**What is a labeled training set?**\n",
        "\n",
        "It's a dataset where for each instance we have a label (or the desired solution)"
      ]
    },
    {
      "cell_type": "markdown",
      "metadata": {
        "id": "aW5ck4GB4vHl"
      },
      "source": [
        "### Question 4"
      ]
    },
    {
      "cell_type": "markdown",
      "metadata": {
        "id": "liY0BKqF40dJ"
      },
      "source": [
        "**What are the two most common supervised tasks?**\n",
        "\n",
        "The two most common supervised tasks are classification and regression. "
      ]
    },
    {
      "cell_type": "markdown",
      "metadata": {
        "id": "zjhKic625MFw"
      },
      "source": [
        "### Question 5"
      ]
    },
    {
      "cell_type": "markdown",
      "metadata": {
        "id": "LHAzL6up5P85"
      },
      "source": [
        "**Name four common unsupervised tasks.**\n",
        "\n",
        "Clustering, Dimensionality reduction, Anamoly detection, Association Rule learrning, Visualization.  "
      ]
    },
    {
      "cell_type": "markdown",
      "metadata": {
        "id": "fh8JIDpM5pYW"
      },
      "source": [
        "### Question 6\n"
      ]
    },
    {
      "cell_type": "markdown",
      "metadata": {
        "id": "6cMGuo135tZ8"
      },
      "source": [
        "**What type of ML algorithm would you use to allow a robot to walk in various unknown terrains?**\n",
        "\n",
        "A bot can't be explicitly programmed to do so. Reinforcement Learning would be the best way forward when dealing with unknown terrains. "
      ]
    },
    {
      "cell_type": "markdown",
      "metadata": {
        "id": "yIbx_vqH6Ta7"
      },
      "source": [
        "### Question 7"
      ]
    },
    {
      "cell_type": "markdown",
      "metadata": {
        "id": "QjMOyFRH6ZSf"
      },
      "source": [
        "**What type of algorithm would you use to segment your customers into multiple groups?***\n",
        "\n",
        "If we don't know much about the data or if the data is not labeled, then we may use clustering algorithms. On the other hand if the data is labeled and we know the differernt groups into which the customers are to be segmented, then a supervised classification algorithm can be used. "
      ]
    },
    {
      "cell_type": "markdown",
      "metadata": {
        "id": "rVJIM2CT7ir2"
      },
      "source": [
        "### Question 8"
      ]
    },
    {
      "cell_type": "markdown",
      "metadata": {
        "id": "WkIZtQ6n7n0B"
      },
      "source": [
        "**Would you frame the problem of spam detection as a supervised learning problem or an unsupervised learning problem?**\n",
        "\n",
        "Supervised Learning Problem"
      ]
    },
    {
      "cell_type": "markdown",
      "metadata": {
        "id": "6IDv2PeG85cB"
      },
      "source": [
        "### Question 9"
      ]
    },
    {
      "cell_type": "markdown",
      "metadata": {
        "id": "XUa6OoV_88ok"
      },
      "source": [
        "**What is an online learning system?**\n",
        "\n",
        "A system that can learn incrementally, as opposed to batch learning. It can adapt to changing and large quantities of data and autonomous systems."
      ]
    },
    {
      "cell_type": "markdown",
      "metadata": {
        "id": "CMSPVFDk-F-s"
      },
      "source": [
        "### Question 10"
      ]
    },
    {
      "cell_type": "markdown",
      "metadata": {
        "id": "bItiCoCR-J4N"
      },
      "source": [
        "**What is out-of-core learning?**\n",
        "\n",
        "It can handle large quantities of data that can't fit in a computer's main memory. It chops the data into batches and then uses online learning to learn from them. "
      ]
    },
    {
      "cell_type": "markdown",
      "metadata": {
        "id": "SaALQ98C-4Q7"
      },
      "source": [
        "### Question 11"
      ]
    },
    {
      "cell_type": "markdown",
      "metadata": {
        "id": "3aJbF6ah-7EK"
      },
      "source": [
        "**What type of learning algorithm relies on similarity measure to make predictions?**\n",
        "\n",
        "An instance based learning system (eg: KNN)"
      ]
    },
    {
      "cell_type": "markdown",
      "metadata": {
        "id": "JnfHVqw__R1p"
      },
      "source": [
        "### Question 12 "
      ]
    },
    {
      "cell_type": "markdown",
      "metadata": {
        "id": "ZLta3kfH_Uuy"
      },
      "source": [
        "**What is the difference between a model parameter and a learning algorithm's hyperparameter?**\n",
        "\n",
        "A model can have diffeent parameters that define, given an instance what it'll predict (eg: slope of a linear model). A learning algorithm tries to find the optimal value of these model params such that the model makes the most accurate predictions. A hyperpaameter is the parameter of the learning algorithm and not the model (eg: amount of regularization to apply). "
      ]
    },
    {
      "cell_type": "markdown",
      "metadata": {
        "id": "IMvo6qXfBCkB"
      },
      "source": [
        "### Question 13"
      ]
    },
    {
      "cell_type": "markdown",
      "metadata": {
        "id": "XOVALhcwBHMP"
      },
      "source": [
        "**What do model based learning algorithms search for? What is the most common strategy they use to succeed? How do they make predictions?**\n",
        "\n",
        "Model based learning algos search for model parameters that enable the model to make the best perdictions. This achieved by the means of a cost function that measures how bad the system is at making predictions. To make predictions we pass the instance features along with the parameter values into the perdict method of the model. \n"
      ]
    },
    {
      "cell_type": "markdown",
      "metadata": {
        "id": "uQ8lxb4SBt6G"
      },
      "source": [
        "### Question 14\n"
      ]
    },
    {
      "cell_type": "markdown",
      "metadata": {
        "id": "vXeews3ZBxsv"
      },
      "source": [
        "**Name four main challenges in ML?**\n",
        "\n",
        "Lack of data, poor quality data or unrepresentative data. Unimformative features. Complex models that overfit. Simple models that underfit.  "
      ]
    },
    {
      "cell_type": "markdown",
      "metadata": {
        "id": "Q177rQ4JB7_w"
      },
      "source": [
        "### Question 15"
      ]
    },
    {
      "cell_type": "markdown",
      "metadata": {
        "id": "xNTfvdYfB-4F"
      },
      "source": [
        "**If your model performs great on the training data but generalizes poorly to the new instances, what is happening? Can you name three possible solutions?**\n",
        "\n",
        "It means the model is overfitting on the training set. What we can do is simplify the model, get more data and/or reduce noise."
      ]
    },
    {
      "cell_type": "markdown",
      "metadata": {
        "id": "SYeE93R7CPT5"
      },
      "source": [
        "### Question 16"
      ]
    },
    {
      "cell_type": "markdown",
      "metadata": {
        "id": "HUAxltdVCUTr"
      },
      "source": [
        "**What's a test set and why would you want to use it?**\n",
        "\n",
        "A test set is used to estimate the generalization errors that a model will make, before the model is launched"
      ]
    },
    {
      "cell_type": "markdown",
      "metadata": {
        "id": "kK-0tlSTCa7S"
      },
      "source": [
        "### Question 17"
      ]
    },
    {
      "cell_type": "markdown",
      "metadata": {
        "id": "FkKEr3VfCdQP"
      },
      "source": [
        "**What's the purpose of a validation set?**\n",
        "\n",
        "It's used to compare models and use the best model and tune its hyperparameters."
      ]
    },
    {
      "cell_type": "markdown",
      "metadata": {
        "id": "T8nxOoblClyw"
      },
      "source": [
        "### Question 18"
      ]
    },
    {
      "cell_type": "markdown",
      "metadata": {
        "id": "NKVFr93fCr4i"
      },
      "source": [
        "**What's a train-dev set, when do you use it and how?**\n",
        "\n",
        "The train dev set is used when there is a rrisk of mismatch between the training data and the data used in validation and test datasets. The train dev set is a part of the training dataset that's held out. Then the model is trained on the remaining of training set. If the model performs well on the training set but not on the train dev or validation set, it means it's likely overfitting the training set. If it peforms well in the taining and train dev set, it means the validation and test set don't match the training set and you should try to improve the training set and make it look more like the validation + test set."
      ]
    },
    {
      "cell_type": "markdown",
      "metadata": {
        "id": "Us2ehGebCx2c"
      },
      "source": [
        "### Question 19"
      ]
    },
    {
      "cell_type": "markdown",
      "metadata": {
        "id": "rGf9fFmqC0ov"
      },
      "source": [
        "**What can go wrong if you tune hyperparametes using the test set?**\n",
        "\n",
        "You risk overfitting your data on the test set and the generalization error you measure will be optimistic - you might launch a model that performs way worse than you had expected. "
      ]
    }
  ]
}